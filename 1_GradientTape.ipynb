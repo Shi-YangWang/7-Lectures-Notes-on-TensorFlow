{
 "cells": [
  {
   "cell_type": "markdown",
   "metadata": {},
   "source": [
    "# GradientTape\n",
    "GradientTape is a core functionality in TensorFlow framework, which aims at automatic differentiation.<br/>\n",
    "TensorFlow 梯度框架算法流程：<br/>\n",
    "1. 前向传播 <br/>\n",
    "2. 计算损失函数 <br/>\n",
    "3. 反向传播 <br/>\n",
    "4. 计算梯度，更新权重 <br/>"
   ]
  },
  {
   "cell_type": "code",
   "execution_count": 2,
   "metadata": {},
   "outputs": [],
   "source": [
    "import tensorflow as tf\n",
    "from tensorflow import keras\n",
    "from tensorflow.keras.layers import Layer, Dense\n",
    "import numpy as np\n",
    "import matplotlib as plt"
   ]
  },
  {
   "cell_type": "markdown",
   "metadata": {},
   "source": [
    "求一阶导数"
   ]
  },
  {
   "cell_type": "code",
   "execution_count": 12,
   "metadata": {},
   "outputs": [
    {
     "name": "stdout",
     "output_type": "stream",
     "text": [
      "tf.Tensor(0.045176655, shape=(), dtype=float32)\n"
     ]
    }
   ],
   "source": [
    "x  = tf.constant(3.0)\n",
    "with tf.GradientTape() as tape:\n",
    "    tape.watch(x)\n",
    "    y  = tf.math.sigmoid(x)\n",
    "dy = tape.gradient(y, x)\n",
    "print(dy)"
   ]
  },
  {
   "cell_type": "markdown",
   "metadata": {},
   "source": [
    "求二阶导数"
   ]
  },
  {
   "cell_type": "code",
   "execution_count": 22,
   "metadata": {},
   "outputs": [
    {
     "name": "stdout",
     "output_type": "stream",
     "text": [
      "tf.Tensor([[5. 3.]], shape=(1, 2), dtype=float32)\n"
     ]
    }
   ],
   "source": [
    "x = tf.constant([[1.0, 3.0]])\n",
    "w = tf.constant([[0.25, 0.75], [0.75, 0.25]])\n",
    "with tf.GradientTape() as tape:\n",
    "    tape.watch(x)\n",
    "    x.T = tf.transpose(x)\n",
    "    y = tf.linalg.matmul(x, w)\n",
    "    y = tf.linalg.matmul(y, x.T)\n",
    "dy = tape.gradient(y, x)\n",
    "print(dy)"
   ]
  },
  {
   "cell_type": "markdown",
   "metadata": {},
   "source": [
    "重参数化技巧"
   ]
  }
 ],
 "metadata": {
  "interpreter": {
   "hash": "c26b10e94c62085fc47affa68e83b97a20faa7df4bd67b84d9f35c79618f4dfd"
  },
  "kernelspec": {
   "display_name": "Python 3.7.3 64-bit",
   "language": "python",
   "name": "python3"
  },
  "language_info": {
   "codemirror_mode": {
    "name": "ipython",
    "version": 3
   },
   "file_extension": ".py",
   "mimetype": "text/x-python",
   "name": "python",
   "nbconvert_exporter": "python",
   "pygments_lexer": "ipython3",
   "version": "3.7.3"
  },
  "orig_nbformat": 4
 },
 "nbformat": 4,
 "nbformat_minor": 2
}
