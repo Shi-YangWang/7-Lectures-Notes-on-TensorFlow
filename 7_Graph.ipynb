{
 "cells": [
  {
   "cell_type": "markdown",
   "metadata": {},
   "source": [
    "# Graph\n",
    "TensorFlow 是基于梯度下降的深度学习框架<br/>\n",
    "图神经网络通过图相关的矩阵对流形空间进行平滑处理<br/>\n",
    "当前版本的 TensorFlow (2.8.0) 尚不支持图相关的计算"
   ]
  },
  {
   "cell_type": "markdown",
   "metadata": {},
   "source": [
    "计算图拉普拉斯"
   ]
  },
  {
   "cell_type": "code",
   "execution_count": null,
   "metadata": {},
   "outputs": [],
   "source": [
    "def calculate_normalized_laplacian(adj):\n",
    "    \"\"\"\n",
    "    # L = D^-1/2 (D-A) D^-1/2 = I - D^-1/2 A D^-1/2\n",
    "    # D = diag(A 1)\n",
    "    :param adj:\n",
    "    :return:\n",
    "    \"\"\"\n",
    "    adj = sp.coo_matrix(adj)\n",
    "    d = np.array(adj.sum(1))\n",
    "    d_inv_sqrt = np.power(d, -0.5).flatten()\n",
    "    d_inv_sqrt[np.isinf(d_inv_sqrt)] = 0.\n",
    "    d_mat_inv_sqrt = sp.diags(d_inv_sqrt)\n",
    "    normalized_laplacian = sp.eye(adj.shape[0]) - adj.dot(d_mat_inv_sqrt).transpose().dot(d_mat_inv_sqrt).tocoo()\n",
    "    return normalized_laplacian"
   ]
  }
 ],
 "metadata": {
  "language_info": {
   "name": "python"
  },
  "orig_nbformat": 4
 },
 "nbformat": 4,
 "nbformat_minor": 2
}
