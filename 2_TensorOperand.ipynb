{
 "cells": [
  {
   "cell_type": "markdown",
   "metadata": {},
   "source": [
    "# Tensor Operand\n",
    "张量是将向量向高维度推广的产品. <br/>\n",
    "矩阵是一张表，推广后得到的三阶张量是一个魔方，三阶以上是不能直接想象到的. <br/>\n",
    "建立在张量上的基本运算包括：卷积、膨胀卷积、反卷积、矩阵乘法、哈达玛积等. <br/>\n",
    "张量运算一个繁琐的细节在于匹配维度. <br/>"
   ]
  },
  {
   "cell_type": "code",
   "execution_count": 2,
   "metadata": {},
   "outputs": [],
   "source": [
    "import tensorflow as tf\n",
    "from tensorflow import keras\n",
    "from tensorflow.keras.layers import Layer, Dense\n",
    "import numpy as np\n",
    "import matplotlib as plt"
   ]
  },
  {
   "cell_type": "markdown",
   "metadata": {},
   "source": [
    "转置<br/>\n",
    "转置(Transpose)本质上是将张量内元素的索引(Index)调换顺序(Permutation)"
   ]
  },
  {
   "cell_type": "code",
   "execution_count": 3,
   "metadata": {},
   "outputs": [
    {
     "data": {
      "text/plain": [
       "<tf.Tensor: shape=(2, 3, 2), dtype=int32, numpy=\n",
       "array([[[ 1,  4],\n",
       "        [ 2,  5],\n",
       "        [ 3,  6]],\n",
       "\n",
       "       [[ 7, 10],\n",
       "        [ 8, 11],\n",
       "        [ 9, 12]]])>"
      ]
     },
     "execution_count": 3,
     "metadata": {},
     "output_type": "execute_result"
    }
   ],
   "source": [
    "x = tf.constant([[[ 1,  2,  3],\n",
    "                  [ 4,  5,  6]],\n",
    "                 [[ 7,  8,  9],\n",
    "                  [10, 11, 12]]])\n",
    "tf.transpose(x, perm=[0, 2, 1]) # By default, perm=[2, 1, 0]."
   ]
  },
  {
   "cell_type": "markdown",
   "metadata": {},
   "source": [
    "线性空间<br/>\n",
    "张量可以映射到相应维度的坐标系中，Axis 就是坐标轴的编号<br/>\n",
    "在笛卡尔坐标中 x/y/z 分别对映 Axis 0/1/2<br/>\n",
    "-1表示从后向前数第一个，-2表示从后向前数第二个，依次类推"
   ]
  },
  {
   "cell_type": "code",
   "execution_count": 10,
   "metadata": {},
   "outputs": [
    {
     "data": {
      "text/plain": [
       "<tf.Tensor: shape=(5, 2), dtype=float32, numpy=\n",
       "array([[ 0.  ,  5.  ],\n",
       "       [ 2.5 , 13.75],\n",
       "       [ 5.  , 22.5 ],\n",
       "       [ 7.5 , 31.25],\n",
       "       [10.  , 40.  ]], dtype=float32)>"
      ]
     },
     "execution_count": 10,
     "metadata": {},
     "output_type": "execute_result"
    }
   ],
   "source": [
    "tf.linspace([0., 5.], [10., 40.], 5, axis=-2)"
   ]
  },
  {
   "cell_type": "markdown",
   "metadata": {},
   "source": [
    "堆叠<br/>\n",
    "堆叠(Stack)是张量独有的运算<br/>\n",
    "N阶张量与N-1阶张量的关系，类似于数组与元素的关系<br/>\n",
    "这里的Axis指的是选择哪一维坐标作为\"数组\"的索引"
   ]
  },
  {
   "cell_type": "code",
   "execution_count": 11,
   "metadata": {},
   "outputs": [
    {
     "data": {
      "text/plain": [
       "<tf.Tensor: shape=(2, 3), dtype=int32, numpy=\n",
       "array([[1, 2, 3],\n",
       "       [4, 5, 6]])>"
      ]
     },
     "execution_count": 11,
     "metadata": {},
     "output_type": "execute_result"
    }
   ],
   "source": [
    "x = tf.constant([1, 4])\n",
    "y = tf.constant([2, 5])\n",
    "z = tf.constant([3, 6])\n",
    "tf.stack([x, y, z], axis=1) # By default, axis=0."
   ]
  },
  {
   "cell_type": "markdown",
   "metadata": {},
   "source": [
    "仿射<br/>\n",
    "仿射变换(Reshape)是张量独有的运算<br/>\n",
    "从一个张量空间映射到另一个张量空间"
   ]
  },
  {
   "cell_type": "code",
   "execution_count": 12,
   "metadata": {},
   "outputs": [
    {
     "data": {
      "text/plain": [
       "<tf.Tensor: shape=(6,), dtype=int32, numpy=array([1, 2, 3, 4, 5, 6])>"
      ]
     },
     "execution_count": 12,
     "metadata": {},
     "output_type": "execute_result"
    }
   ],
   "source": [
    "t1 = [[1, 2, 3],\n",
    "      [4, 5, 6]]\n",
    "tf.reshape(t1, [-1]) # 将矩阵（二阶张量）展开成向量（一阶张量）"
   ]
  },
  {
   "cell_type": "markdown",
   "metadata": {},
   "source": [
    "收缩<br/>\n",
    "收缩(Contraction)是张量独有的运算<br/>\n",
    "收缩推广了矩阵乘法，而矩阵乘法推广了向量内积<br/>\n",
    "可以写成爱因斯坦求和记号"
   ]
  },
  {
   "cell_type": "code",
   "execution_count": 35,
   "metadata": {},
   "outputs": [
    {
     "data": {
      "text/plain": [
       "<tf.Tensor: shape=(), dtype=int32, numpy=30>"
      ]
     },
     "execution_count": 35,
     "metadata": {},
     "output_type": "execute_result"
    }
   ],
   "source": [
    "x = tf.constant([[1, 2], [3, 4]])\n",
    "y = tf.constant([[1, 2], [3, 4]])\n",
    "tf.tensordot(x, y, axes=[[1], [0]])"
   ]
  },
  {
   "cell_type": "markdown",
   "metadata": {},
   "source": [
    "折叠<br/>\n",
    "折叠（Squeeze）是张量独有的运算<br/>\n",
    "将投影为单个点的维度折叠"
   ]
  },
  {
   "cell_type": "code",
   "execution_count": 13,
   "metadata": {},
   "outputs": [
    {
     "data": {
      "text/plain": [
       "<tf.Tensor: shape=(3,), dtype=int32, numpy=array([1, 2, 3])>"
      ]
     },
     "execution_count": 13,
     "metadata": {},
     "output_type": "execute_result"
    }
   ],
   "source": [
    "plump = [[1], [2], [3]]\n",
    "tf.squeeze(plump)"
   ]
  }
 ],
 "metadata": {
  "interpreter": {
   "hash": "c26b10e94c62085fc47affa68e83b97a20faa7df4bd67b84d9f35c79618f4dfd"
  },
  "kernelspec": {
   "display_name": "Python 3.7.3 64-bit",
   "language": "python",
   "name": "python3"
  },
  "language_info": {
   "codemirror_mode": {
    "name": "ipython",
    "version": 3
   },
   "file_extension": ".py",
   "mimetype": "text/x-python",
   "name": "python",
   "nbconvert_exporter": "python",
   "pygments_lexer": "ipython3",
   "version": "3.7.3"
  },
  "orig_nbformat": 4
 },
 "nbformat": 4,
 "nbformat_minor": 2
}
