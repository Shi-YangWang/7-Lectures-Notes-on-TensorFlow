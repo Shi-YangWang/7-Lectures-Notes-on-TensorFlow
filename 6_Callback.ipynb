{
 "cells": [
  {
   "cell_type": "markdown",
   "metadata": {},
   "source": [
    "# Callback\n",
    "生命周期钩子，可以实现：<br/>\n",
    "1. EarlyStopping\n",
    "2. ReduceLROnPlateau\n",
    "3. TensorBoard"
   ]
  },
  {
   "cell_type": "code",
   "execution_count": null,
   "metadata": {},
   "outputs": [],
   "source": [
    "callback = tf.keras.callbacks.EarlyStopping(monitor='loss', patience=3)\n",
    "# This callback will stop the training when there is no improvement in\n",
    "# the loss for three consecutive epochs.\n",
    "model = tf.keras.models.Sequential([tf.keras.layers.Dense(10)])\n",
    "model.compile(tf.keras.optimizers.SGD(), loss='mse')\n",
    "history = model.fit(np.arange(100).reshape(5, 20), np.zeros(5),\n",
    "                    epochs=10, batch_size=1, callbacks=[callback],\n",
    "                    verbose=0)\n",
    "len(history.history['loss'])  # Only 4 epochs are run."
   ]
  }
 ],
 "metadata": {
  "language_info": {
   "name": "python"
  },
  "orig_nbformat": 4
 },
 "nbformat": 4,
 "nbformat_minor": 2
}
